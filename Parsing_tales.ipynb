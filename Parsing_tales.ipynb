{
  "nbformat": 4,
  "nbformat_minor": 0,
  "metadata": {
    "colab": {
      "provenance": [],
      "collapsed_sections": [],
      "authorship_tag": "ABX9TyNwf7Mug67pwupzkD4JdS2m",
      "include_colab_link": true
    },
    "kernelspec": {
      "name": "python3",
      "display_name": "Python 3"
    },
    "language_info": {
      "name": "python"
    }
  },
  "cells": [
    {
      "cell_type": "markdown",
      "metadata": {
        "id": "view-in-github",
        "colab_type": "text"
      },
      "source": [
        "<a href=\"https://colab.research.google.com/github/anpaleog/Parse_hh_RabotaRu/blob/main/Parsing_tales.ipynb\" target=\"_parent\"><img src=\"https://colab.research.google.com/assets/colab-badge.svg\" alt=\"Open In Colab\"/></a>"
      ]
    },
    {
      "cell_type": "code",
      "execution_count": null,
      "metadata": {
        "colab": {
          "base_uri": "https://localhost:8080/"
        },
        "id": "DKi3v8ZwCR58",
        "outputId": "504f8cb3-fbf4-41de-bd37-3054d3572f27"
      },
      "outputs": [
        {
          "output_type": "stream",
          "name": "stdout",
          "text": [
            "Looking in indexes: https://pypi.org/simple, https://us-python.pkg.dev/colab-wheels/public/simple/\n",
            "Collecting fake_useragent\n",
            "  Downloading fake-useragent-0.1.11.tar.gz (13 kB)\n",
            "Building wheels for collected packages: fake-useragent\n",
            "  Building wheel for fake-useragent (setup.py) ... \u001b[?25l\u001b[?25hdone\n",
            "  Created wheel for fake-useragent: filename=fake_useragent-0.1.11-py3-none-any.whl size=13502 sha256=2d45b6c12e641b433f2c3dfa0703ddde9d7f11868a46f6e0da14a1ba07885c7c\n",
            "  Stored in directory: /root/.cache/pip/wheels/ed/f7/62/50ab6c9a0b5567267ab76a9daa9d06315704209b2c5d032031\n",
            "Successfully built fake-useragent\n",
            "Installing collected packages: fake-useragent\n",
            "Successfully installed fake-useragent-0.1.11\n"
          ]
        }
      ],
      "source": [
        "pip install fake_useragent"
      ]
    },
    {
      "cell_type": "code",
      "source": [
        "import fake_useragent\n",
        "from bs4 import BeautifulSoup\n",
        "import requests\n",
        "import time\n",
        "\n",
        "data = ''\n",
        "\n",
        "def get_rus_links():\n",
        "    ua =fake_useragent.UserAgent()\n",
        "    res = requests.get(\n",
        "        url=\"https://peskarlib.ru/russkie-skazki/\",\n",
        "        headers={\"user-agent\":ua.random}\n",
        "    )\n",
        "    print(res.status_code)\n",
        "    soup = BeautifulSoup(res.content, \"lxml\")\n",
        "    for a in soup.find('section').find_all('h2'):\n",
        "      try:\n",
        "        print('https://peskarlib.ru/'+a.find('a').get('href'))\n",
        "        yield 'https://peskarlib.ru/'+a.find('a').get('href') #Создается список из ссылок\n",
        "        #time.sleep(1)\n",
        "      except:\n",
        "        pass"
      ],
      "metadata": {
        "id": "kdkEGMkFCdVz"
      },
      "execution_count": null,
      "outputs": []
    },
    {
      "cell_type": "code",
      "source": [
        "def get_rus_info(link):\n",
        "  ua =fake_useragent.UserAgent()\n",
        "  res = requests.get(\n",
        "      url=link,\n",
        "      headers={\"user-agent\":ua.random}\n",
        "  )\n",
        "  soup = BeautifulSoup(res.content, 'lxml')\n",
        "  try:\n",
        "    skazki = soup.find(class_='cl-sst').text.replace('\\r','').replace('\\n',' ')\n",
        "    #print(skazki)\n",
        "    return skazki\n",
        "  except:\n",
        "    pass\n",
        "for a in get_rus_links():\n",
        "  data += get_rus_info(a)\n",
        "  #print(a)\n",
        "data = ''.join(data)\n",
        "with open('rus_skazki.txt','w') as f:\n",
        "  f.write(data)"
      ],
      "metadata": {
        "colab": {
          "base_uri": "https://localhost:8080/",
          "height": 443
        },
        "id": "rNyw4L0wD4TB",
        "outputId": "4a8c3de0-9919-4578-8849-e079ba687a58"
      },
      "execution_count": null,
      "outputs": [
        {
          "output_type": "stream",
          "name": "stdout",
          "text": [
            "200\n",
            "https://peskarlib.ru//russkie-skazki/kolobok/\n",
            "https://peskarlib.ru//russkie-skazki/teremok/\n",
            "https://peskarlib.ru//russkie-skazki/gusi-lebedi/\n",
            "https://peskarlib.ru//russkie-skazki/morozko/\n",
            "https://peskarlib.ru//russkie-skazki/ivan-carevich-i-seryy-volk/\n",
            "https://peskarlib.ru//russkie-skazki/repka/\n",
            "https://peskarlib.ru//russkie-skazki/kurochka-ryaba/\n",
            "https://peskarlib.ru//russkie-skazki/sestrica-alenushka-i-bratec-ivanushka/\n",
            "https://peskarlib.ru//russkie-skazki/lisa-i-zhuravl/\n"
          ]
        },
        {
          "output_type": "stream",
          "name": "stderr",
          "text": [
            "Exception ignored in: <generator object get_rus_links at 0x7f6152522c50>\n",
            "RuntimeError: generator ignored GeneratorExit\n"
          ]
        },
        {
          "output_type": "error",
          "ename": "TypeError",
          "evalue": "ignored",
          "traceback": [
            "\u001b[0;31m---------------------------------------------------------------------------\u001b[0m",
            "\u001b[0;31mTypeError\u001b[0m                                 Traceback (most recent call last)",
            "\u001b[0;32m<ipython-input-98-c2d874cd63aa>\u001b[0m in \u001b[0;36m<module>\u001b[0;34m\u001b[0m\n\u001b[1;32m     13\u001b[0m     \u001b[0;32mpass\u001b[0m\u001b[0;34m\u001b[0m\u001b[0;34m\u001b[0m\u001b[0m\n\u001b[1;32m     14\u001b[0m \u001b[0;32mfor\u001b[0m \u001b[0ma\u001b[0m \u001b[0;32min\u001b[0m \u001b[0mget_rus_links\u001b[0m\u001b[0;34m(\u001b[0m\u001b[0;34m)\u001b[0m\u001b[0;34m:\u001b[0m\u001b[0;34m\u001b[0m\u001b[0;34m\u001b[0m\u001b[0m\n\u001b[0;32m---> 15\u001b[0;31m   \u001b[0mdata\u001b[0m \u001b[0;34m+=\u001b[0m \u001b[0mget_rus_info\u001b[0m\u001b[0;34m(\u001b[0m\u001b[0ma\u001b[0m\u001b[0;34m)\u001b[0m     \u001b[0;31m#Добавляем в общий список\u001b[0m\u001b[0;34m\u001b[0m\u001b[0;34m\u001b[0m\u001b[0m\n\u001b[0m\u001b[1;32m     16\u001b[0m   \u001b[0;31m#print(a)\u001b[0m\u001b[0;34m\u001b[0m\u001b[0;34m\u001b[0m\u001b[0;34m\u001b[0m\u001b[0m\n\u001b[1;32m     17\u001b[0m \u001b[0mdata\u001b[0m \u001b[0;34m=\u001b[0m \u001b[0;34m''\u001b[0m\u001b[0;34m.\u001b[0m\u001b[0mjoin\u001b[0m\u001b[0;34m(\u001b[0m\u001b[0mdata\u001b[0m\u001b[0;34m)\u001b[0m\u001b[0;34m\u001b[0m\u001b[0;34m\u001b[0m\u001b[0m\n",
            "\u001b[0;31mTypeError\u001b[0m: can only concatenate str (not \"NoneType\") to str"
          ]
        }
      ]
    },
    {
      "cell_type": "code",
      "source": [
        "def get_ukr_links():\n",
        "    ua =fake_useragent.UserAgent()\n",
        "    res = requests.get(\n",
        "        url=\"https://peskarlib.ru/ukrainskie-skazki/\",\n",
        "        headers={\"user-agent\":ua.random}\n",
        "    )\n",
        "    print(res.status_code)\n",
        "    soup = BeautifulSoup(res.content, \"lxml\")\n",
        "    for a in soup.find_all('h2'):\n",
        "      try:\n",
        "        print('https://peskarlib.ru/'+a.find('a').get('href'))\n",
        "        yield 'https://peskarlib.ru/'+a.find('a').get('href') #Создается список из ссылок\n",
        "        #time.sleep(1)\n",
        "      except:\n",
        "        pass"
      ],
      "metadata": {
        "id": "NwbCqKadMB46"
      },
      "execution_count": null,
      "outputs": []
    },
    {
      "cell_type": "code",
      "source": [
        "def get_ukr_info(link):\n",
        "  ua =fake_useragent.UserAgent()\n",
        "  res = requests.get(\n",
        "      url=link,\n",
        "      headers={\"user-agent\":ua.random}\n",
        "  )\n",
        "  soup = BeautifulSoup(res.content, 'lxml')\n",
        "  try:\n",
        "    skazki = soup.find(class_='cl-sst').text.replace('\\r','').replace('\\n',' ')\n",
        "    #print(skazki)\n",
        "    return skazki\n",
        "  except:\n",
        "    pass\n",
        "ukr_data = ''\n",
        "for a in get_ukr_links():\n",
        "  ukr_data += get_ukr_info(a)\n",
        "  #print(a)\n",
        "ukr_data = ''.join(ukr_data)\n",
        "with open('ukr_skazki.txt','w') as f:\n",
        "  f.write(ukr_data)"
      ],
      "metadata": {
        "colab": {
          "base_uri": "https://localhost:8080/"
        },
        "id": "wc7e1udlPO0x",
        "outputId": "b90b3343-21e4-45dc-c859-25d8247b9530"
      },
      "execution_count": null,
      "outputs": [
        {
          "output_type": "stream",
          "name": "stdout",
          "text": [
            "200\n",
            "https://peskarlib.ru//ukrainskie-skazki/znahar/\n",
            "https://peskarlib.ru//ukrainskie-skazki/pro-zlydney/\n",
            "https://peskarlib.ru//ukrainskie-skazki/kak-muzhik-so-spesivym-panom-poobedal/\n",
            "https://peskarlib.ru//ukrainskie-skazki/kotik-i-petushok/\n",
            "https://peskarlib.ru//ukrainskie-skazki/nazvanyy-otec/\n",
            "https://peskarlib.ru//ukrainskie-skazki/kolosok/\n",
            "https://peskarlib.ru//ukrainskie-skazki/letuchiy-korabl/\n",
            "https://peskarlib.ru//ukrainskie-skazki/ded-i-rak/\n",
            "https://peskarlib.ru//ukrainskie-skazki/skazka-pro-ivana-i-chudesnuyu-knigu/\n",
            "https://peskarlib.ru//ukrainskie-skazki/kak-ded-hodil-v-shkolu/\n",
            "https://peskarlib.ru//ukrainskie-skazki/holod-golod-i-zasuha/\n",
            "https://peskarlib.ru//ukrainskie-skazki/kak-bednyak-izbavilsya-ot-zlydney/\n",
            "https://peskarlib.ru//ukrainskie-skazki/vyun-i-schuka/\n",
            "https://peskarlib.ru//ukrainskie-skazki/rukavichka/\n"
          ]
        }
      ]
    }
  ]
}